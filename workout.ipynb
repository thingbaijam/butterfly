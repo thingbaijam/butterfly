{
 "cells": [
  {
   "cell_type": "code",
   "execution_count": null,
   "id": "448b449a",
   "metadata": {},
   "outputs": [],
   "source": [
    "import butterfly"
   ]
  },
  {
   "cell_type": "code",
   "execution_count": 12,
   "id": "e511783d",
   "metadata": {},
   "outputs": [],
   "source": [
    "cases = {\n",
    "    'parameter1': {'inputs': ['base','low','high'],\n",
    "              'results':[25,40, 55],\n",
    "              'base': 40,\n",
    "             },\n",
    "    'parameter2': {'inputs': ['left','mid','right'],\n",
    "              'results':[2, 26, 30],\n",
    "              'base': 26,\n",
    "             },\n",
    "    'parameter3': {'inputs': None,\n",
    "              'results':[23, 40, 70],\n",
    "              'base': 40,\n",
    "             },\n",
    "    'parameter4': {'inputs': None,\n",
    "              'results':[12, 25, 26],\n",
    "              'base': 25,\n",
    "             },\n",
    "    }"
   ]
  },
  {
   "cell_type": "code",
   "execution_count": 13,
   "id": "3a0921e8",
   "metadata": {},
   "outputs": [
    {
     "data": {
      "image/png": "[encoded data removed]",
      "text/plain": [
       "<Figure size 432x432 with 1 Axes>"
      ]
     },
     "metadata": {
      "needs_background": "light"
     },
     "output_type": "display_data"
    }
   ],
   "source": [
    "butterfly.plot(cases, plot_orient='horizontal', barwidth = 0.8, \\\n",
    "                xlim = [-50, 50], xypad = (1.0, 0.1), \\\n",
    "                sort_spread = 'ascend', \\\n",
    "                title='Test1', ylabel='cases', xlabel='range', ax=None)"
   ]
  },
  {
   "cell_type": "code",
   "execution_count": null,
   "id": "fa30dbd0",
   "metadata": {},
   "outputs": [],
   "source": []
  }
 ],
 "metadata": {
  "kernelspec": {
   "display_name": "Python 3 (ipykernel)",
   "language": "python",
   "name": "python3"
  },
  "language_info": {
   "codemirror_mode": {
    "name": "ipython",
    "version": 3
   },
   "file_extension": ".py",
   "mimetype": "text/x-python",
   "name": "python",
   "nbconvert_exporter": "python",
   "pygments_lexer": "ipython3",
   "version": "3.8.12"
  }
 },
 "nbformat": 4,
 "nbformat_minor": 5
}
